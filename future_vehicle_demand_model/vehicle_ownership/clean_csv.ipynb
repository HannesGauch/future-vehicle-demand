{
 "cells": [
  {
   "cell_type": "code",
   "execution_count": 1,
   "metadata": {},
   "outputs": [],
   "source": [
    "import re\n",
    "\n",
    "# open your csv and read as a text string\n",
    "with open(\"data/vehicle stock/c0001311_20230724-184120.csv\", 'r') as f:\n",
    "    my_csv_text = f.read()\n",
    "\n",
    "find_str = '..'\n",
    "replace_str = ''\n",
    "\n",
    "# substitute\n",
    "new_csv_str = re.sub(find_str, replace_str, my_csv_text)\n",
    "\n",
    "# open new file and save\n",
    "new_csv_path = 'data/vehicle stock/c0001311_20230724-184120-cleaned.csv' # or whatever path and name you want\n",
    "with open(new_csv_path, 'w') as f:\n",
    "    f.write(new_csv_str)"
   ]
  },
  {
   "cell_type": "code",
   "execution_count": 2,
   "metadata": {},
   "outputs": [],
   "source": [
    "# reading the CSV file\n",
    "text = open(\"data/vehicle stock/c0001311_20230724-184120.csv\", \"r\")\n",
    "  \n",
    "#join() method combines all contents of \n",
    "# csvfile.csv and formed as a string\n",
    "text = ''.join([i for i in text]) \n",
    "  \n",
    "# search and replace the contents\n",
    "text = text.replace(\"..\", \"\") \n",
    "\n",
    "  \n",
    "# output.csv is the output file opened in write mode\n",
    "x = open(\"data/vehicle stock/c0001311_20230724-184120-cleaned.csv\",\"w\")\n",
    "  \n",
    "# all the replaced text is written in the output.csv file\n",
    "x.writelines(text)\n",
    "x.close()"
   ]
  }
 ],
 "metadata": {
  "kernelspec": {
   "display_name": "base",
   "language": "python",
   "name": "python3"
  },
  "language_info": {
   "codemirror_mode": {
    "name": "ipython",
    "version": 3
   },
   "file_extension": ".py",
   "mimetype": "text/x-python",
   "name": "python",
   "nbconvert_exporter": "python",
   "pygments_lexer": "ipython3",
   "version": "3.9.12"
  },
  "orig_nbformat": 4
 },
 "nbformat": 4,
 "nbformat_minor": 2
}
